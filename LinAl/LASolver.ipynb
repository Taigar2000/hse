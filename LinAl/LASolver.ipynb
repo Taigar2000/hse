{
 "cells": [
  {
   "cell_type": "code",
   "execution_count": 1,
   "metadata": {},
   "outputs": [],
   "source": [
    "import numpy as np\n",
    "import matplotlib.pyplot as plt\n",
    "import copy"
   ]
  },
  {
   "cell_type": "code",
   "execution_count": 5,
   "metadata": {},
   "outputs": [],
   "source": [
    "#Funcs\n",
    "\n",
    "def printf(fl,s):\n",
    "    print(s,end=\"\")\n",
    "    try: fl.write(s)\n",
    "    except: pass\n",
    "\n",
    "def matrtostr(a):\n",
    "    s=\"$\\\\begin{pmatrix} \\n\"\n",
    "    for i in a:\n",
    "        for j in i:\n",
    "            s+=str(j)+\" & \"\n",
    "        s=s[:-2:]+\"\\\\\\\\ \\n\"\n",
    "    s+=\"\\\\end{pmatrix}$ \\n\"\n",
    "    return s\n",
    "    "
   ]
  },
  {
   "cell_type": "code",
   "execution_count": 6,
   "metadata": {},
   "outputs": [
    {
     "name": "stdout",
     "output_type": "stream",
     "text": [
      "\\begin{pmatrix} \n",
      "-5 & -2 & -1 & -5 \\\\ \n",
      "1 & 0 & -4 & -5 \\\\ \n",
      "-2 & -3 & 1 & 5 \\\\ \n",
      "-3 & 2 & 2 & -4 \\\\ \n",
      "\\end{pmatrix} \n"
     ]
    }
   ],
   "source": [
    "#Init \n",
    "\n",
    "fl=open(\"GER.txt\",\"w\")\n",
    "\n",
    "a=np.array([[-5,-2,-1,-5],\n",
    "            [ 1, 0,-4,-5],\n",
    "            [-2,-3, 1, 5],\n",
    "            [-3, 2, 2,-4]])\n",
    "\n",
    "b=np.array([[-4,-5, 0,-8],\n",
    "            [ 4,-3,-3,11],\n",
    "            [-2,-3, 2,-6],\n",
    "            [-5,-4,-4,-6]])\n",
    "\n",
    "printf(fl,matrtostr(a))\n",
    "printf(fl,matrtostr(b))\n"
   ]
  },
  {
   "cell_type": "code",
   "execution_count": null,
   "metadata": {},
   "outputs": [],
   "source": [
    "# N1\n",
    "\n",
    "text1=\"\"\"\"\"\"\n",
    "\n"
   ]
  }
 ],
 "metadata": {
  "kernelspec": {
   "display_name": "Python 3",
   "language": "python",
   "name": "python3"
  },
  "language_info": {
   "codemirror_mode": {
    "name": "ipython",
    "version": 3
   },
   "file_extension": ".py",
   "mimetype": "text/x-python",
   "name": "python",
   "nbconvert_exporter": "python",
   "pygments_lexer": "ipython3",
   "version": "3.7.3"
  }
 },
 "nbformat": 4,
 "nbformat_minor": 2
}
