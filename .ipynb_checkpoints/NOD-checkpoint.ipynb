{
 "cells": [
  {
   "cell_type": "code",
   "execution_count": 4,
   "metadata": {},
   "outputs": [
    {
     "ename": "SyntaxError",
     "evalue": "unexpected character after line continuation character (<ipython-input-4-f40c38c23b52>, line 5)",
     "output_type": "error",
     "traceback": [
      "\u001b[0;36m  File \u001b[0;32m\"<ipython-input-4-f40c38c23b52>\"\u001b[0;36m, line \u001b[0;32m5\u001b[0m\n\u001b[0;31m    print(\\TeX)\u001b[0m\n\u001b[0m               ^\u001b[0m\n\u001b[0;31mSyntaxError\u001b[0m\u001b[0;31m:\u001b[0m unexpected character after line continuation character\n"
     ]
    }
   ],
   "source": [
    "import numpy as np\n",
    "import matplotlib.pyplot as plt\n",
    "\n",
    "fl=open(\"result.txt\",\"a\")\n",
    "\n",
    "f=np.array([1,1,1,2,1])\n",
    "g=np.array([1,0,1])\n",
    "mod=3#np.array([3,3,3,3,3])\n",
    "\n",
    "def sum(a):\n",
    "    b=0\n",
    "    for i in a:\n",
    "        b+=i\n",
    "    return b\n",
    "\n",
    "def cut(f):\n",
    "    if(len(f)==0): return []\n",
    "    i=0\n",
    "    while(f[i]==0):\n",
    "        i+=1\n",
    "        if(i==len(f)): return []\n",
    "    return f[i::]\n",
    "    \n",
    "\n",
    "while(len(g)>0):\n",
    "    n = len(g)#min(len(f),len(g))\n",
    "    while(len(f)>=len(g)):\n",
    "        k=0\n",
    "        while(f[0]>0):\n",
    "            k+=1\n",
    "            f[0]=(f[0]-g[0])%mod\n",
    "\n",
    "        for i in range(1,n):\n",
    "            f[i]=(f[i]-g[i]*k)%mod\n",
    "        \n",
    "        f=cut(f)\n",
    "    \n",
    "    f=cut(f)\n",
    "    \n",
    "    print(str(f))\n",
    "    fl.write(str(f))\n",
    "    print(g)\n",
    "    fl.write(str(g))\n",
    "    print(k)\n",
    "    fl.write(str(k))\n",
    "    print((g*k)%mod)\n",
    "    fl.write(str((g*k)%mod))\n",
    "    \n",
    "    fl.flush()\n",
    "    \n",
    "    f,g=g,f\n",
    "    \n",
    "    \n",
    "fl.close()"
   ]
  }
 ],
 "metadata": {
  "kernelspec": {
   "display_name": "Python 3",
   "language": "python",
   "name": "python3"
  },
  "language_info": {
   "codemirror_mode": {
    "name": "ipython",
    "version": 3
   },
   "file_extension": ".py",
   "mimetype": "text/x-python",
   "name": "python",
   "nbconvert_exporter": "python",
   "pygments_lexer": "ipython3",
   "version": "3.7.2"
  }
 },
 "nbformat": 4,
 "nbformat_minor": 2
}
