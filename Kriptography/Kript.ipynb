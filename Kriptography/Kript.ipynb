{
 "cells": [
  {
   "cell_type": "code",
   "execution_count": 1,
   "metadata": {},
   "outputs": [],
   "source": [
    "import numpy as np\n",
    "import matplotlib.pyplot as plt\n",
    "import copy\n",
    "from sympy import *"
   ]
  },
  {
   "cell_type": "code",
   "execution_count": 16,
   "metadata": {},
   "outputs": [],
   "source": [
    "def add(p,q=[],a=0, show=0,write=0,fl=0,mod=1):\n",
    "    s=\"\"\n",
    "    if(q!=[] and (not(p[0]==q[0] and p[1]==q[1]))):\n",
    "       l=(int(q[1]-p[1]))/(int(q[0]-p[0]))\n",
    "       s=\"((\"+str(q[1])+\")-(\"+str(p[1])+\"))/((\"+str(q[0])+\")-(\"+str(p[0])+\"))\"\n",
    "#        if(show): print(\"(\"+str(q[1])+\"-\"+str(p[1])+\")/(\"+str(q[0])+\"-\"+str(p[0])+\")\")\n",
    "#        if(write): fl.write(\"(\"+str(q[1])+\"-\"+str(p[1])+\")/(\"+str(q[0])+\"-\"+str(p[0])+\")\\n\")\n",
    "    if(q==[] or (p[0]==q[0] and p[1]==q[1])):\n",
    "       l=(int(3*p[0]**2+a))/(int(2*p[1]))\n",
    "       s=\"(3*(\"+str(p[0])+\")**2+(\"+str(a)+\"))/(2*(\"+str(p[1])+\"))\"\n",
    "#        if(show): print(\"(3*\"+str(p[0])+\"**2+\"+str(a)+\")/(2*\"+str(p[1])+\")\")\n",
    "#        if(write): fl.write(\"(3*\"+str(p[0])+\"**2+\"+str(a)+\")/(2*\"+str(p[1])+\")\")\n",
    "    xs=((int(l**2)-p[0]-q[0])%mod+mod)%mod\n",
    "    if(show): print(s+\"**2-(\"+str(p[0])+\")-(\"+str(q[0])+\") = \"+str(xs))\n",
    "    if(write): fl.write(s+\"**2-(\"+str(p[0])+\")-(\"+str(q[0])+\") = \"+str(xs)+\"\\n\")\n",
    "    ys=((-p[1]+int(l*(p[0]-xs)))%mod+mod)%mod\n",
    "    if(show): print(\"-(\"+str(p[1])+\")+\"+s+\"*((\"+str(p[0])+\")-(\"+str(xs)+\")) = \"+str(ys))\n",
    "    if(write): fl.write(\"-(\"+str(p[1])+\")+\"+s+\"*((\"+str(p[0])+\")-(\"+str(xs)+\")) = \"+str(ys)+\"\\n\")\n",
    "    return [xs,ys]\n",
    "\n",
    "def mult(p,a,n,show=0,write=0,fl=0,mod=1):\n",
    "    ret=copy.deepcopy(p)\n",
    "    flag=1\n",
    "    for i in range(n):\n",
    "        flag=(show^1)\n",
    "        ret=add(ret,p,a,(show and i==n-1),(write and i==n-1),fl,mod)\n",
    "    if(0 and flag):\n",
    "        if(show): print(\"(\"+str(ret[0])+\";\",end=\"\")\n",
    "        if(write): fl.write(\"(\"+str(ret[0])+\";\")\n",
    "        if(show): print(str(ret[1])+\")\")\n",
    "        if(write): fl.write(str(ret[1])+\")\\n\")\n",
    "    return ret"
   ]
  },
  {
   "cell_type": "code",
   "execution_count": 19,
   "metadata": {},
   "outputs": [
    {
     "name": "stdout",
     "output_type": "stream",
     "text": [
      "\n",
      "Point 1 :\n",
      "(7406;17549)\n",
      "\n",
      "Point 2 :\n",
      "(3*(7406)**2+(-2))/(2*(17549))**2-(7406)-(7406) = 1775\n",
      "-(17549)+(3*(7406)**2+(-2))/(2*(17549))*((7406)-(1775)) = 1084\n",
      "\n",
      "Point 3 :\n",
      "((17549)-(1084))/((7406)-(1775))**2-(1775)-(7406) = 9008\n",
      "-(1084)+((17549)-(1084))/((7406)-(1775))*((1775)-(9008)) = 14129\n",
      "\n",
      "Point 4 :\n",
      "((17549)-(14129))/((7406)-(9008))**2-(9008)-(7406) = 1771\n",
      "-(14129)+((17549)-(14129))/((7406)-(9008))*((9008)-(1771)) = 6784\n",
      "\n",
      "Point 5 :\n",
      "(9007;15755)\n",
      "\n",
      "Point 6 :\n",
      "(1769;12497)\n",
      "\n",
      "Point 7 :\n",
      "(9006;17380)\n",
      "\n",
      "Point 8 :\n",
      "(1769;37)\n",
      "\n",
      "Point 9 :\n",
      "(9015;13815)\n",
      "\n",
      "Point 10 :\n",
      "(1765;5722)\n",
      "\n",
      "Point 11 :\n",
      "(9014;15442)\n",
      "\n",
      "Point 12 :\n",
      "(1762;11418)\n",
      "\n",
      "Point 13 :\n",
      "(9014;17067)\n",
      "\n",
      "Point 14 :\n",
      "(1761;17121)\n",
      "\n",
      "Point 15 :\n",
      "(9014;511)\n"
     ]
    }
   ],
   "source": [
    "fl=open(\"GER/task2_GER.txt\",\"w\")\n",
    "p=[[7406,17549]]\n",
    "a=-2\n",
    "q=18181\n",
    "flag=1\n",
    "for i in range(15):\n",
    "    if(i>=4): flag=0\n",
    "    print(\"\\nPoint \"+str(i+1)+\" :\")\n",
    "    fl.write(\"\\nPoint \"+str(i+1)+\" :\\n\")\n",
    "    p.append(mult(p[0],a,i,flag,flag,fl,q))\n",
    "    if(1 or not flag):\n",
    "        ret=p[-1]\n",
    "        print(\"(\"+str(ret[0])+\";\",end=\"\")\n",
    "        fl.write(\"(\"+str(ret[0])+\";\")\n",
    "        print(str(ret[1])+\")\")\n",
    "        fl.write(str(ret[1])+\")\\n\")\n",
    "\n",
    "fl.close()"
   ]
  },
  {
   "cell_type": "code",
   "execution_count": null,
   "metadata": {},
   "outputs": [],
   "source": []
  }
 ],
 "metadata": {
  "kernelspec": {
   "display_name": "Python 3",
   "language": "python",
   "name": "python3"
  },
  "language_info": {
   "codemirror_mode": {
    "name": "ipython",
    "version": 3
   },
   "file_extension": ".py",
   "mimetype": "text/x-python",
   "name": "python",
   "nbconvert_exporter": "python",
   "pygments_lexer": "ipython3",
   "version": "3.7.2"
  }
 },
 "nbformat": 4,
 "nbformat_minor": 2
}
